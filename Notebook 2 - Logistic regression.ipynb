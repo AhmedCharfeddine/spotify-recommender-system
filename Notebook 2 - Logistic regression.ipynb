{
 "cells": [
  {
   "cell_type": "markdown",
   "id": "2a2c1a53",
   "metadata": {},
   "source": [
    "# Notebook 2: Logistic regression"
   ]
  },
  {
   "cell_type": "markdown",
   "id": "9083e46c",
   "metadata": {},
   "source": [
    "This notebook will train the user data on spotify using the Logistic regression model. To get a better understanding of what the data looks like, refer to *Notebook 1*."
   ]
  },
  {
   "cell_type": "code",
   "execution_count": 1,
   "id": "4c90fb42",
   "metadata": {},
   "outputs": [],
   "source": [
    "import numpy as np\n",
    "import pandas as pd\n",
    "import seaborn as sns"
   ]
  },
  {
   "cell_type": "code",
   "execution_count": 2,
   "id": "7b5aacbc",
   "metadata": {},
   "outputs": [],
   "source": [
    "from sklearn.model_selection import train_test_split\n",
    "from sklearn.metrics import confusion_matrix\n",
    "from sklearn import linear_model"
   ]
  },
  {
   "cell_type": "code",
   "execution_count": 6,
   "id": "5cc94ed8",
   "metadata": {},
   "outputs": [],
   "source": [
    "data = pd.read_csv('processed_data.csv')"
   ]
  },
  {
   "cell_type": "code",
   "execution_count": 11,
   "id": "3d556630",
   "metadata": {},
   "outputs": [],
   "source": [
    "cols = list(data.columns)"
   ]
  },
  {
   "cell_type": "code",
   "execution_count": 12,
   "id": "051c241c",
   "metadata": {},
   "outputs": [
    {
     "data": {
      "text/plain": [
       "['Unnamed: 0',\n",
       " 'duration_ms',\n",
       " 'key',\n",
       " 'loudness',\n",
       " 'tempo',\n",
       " 'acousticness',\n",
       " 'danceability',\n",
       " 'instrumentalness',\n",
       " 'liveness',\n",
       " 'mode',\n",
       " 'speechiness',\n",
       " 'valence',\n",
       " 'target']"
      ]
     },
     "execution_count": 12,
     "metadata": {},
     "output_type": "execute_result"
    }
   ],
   "source": [
    "cols"
   ]
  },
  {
   "cell_type": "markdown",
   "id": "08cc21b8",
   "metadata": {},
   "source": [
    "The columns `Unnamed 0` and `target` are not needed "
   ]
  },
  {
   "cell_type": "code",
   "execution_count": 13,
   "id": "6d094ec6",
   "metadata": {},
   "outputs": [],
   "source": [
    "cols.pop(0)\n",
    "cols.remove('target')"
   ]
  },
  {
   "cell_type": "code",
   "execution_count": 14,
   "id": "d42da1ee",
   "metadata": {},
   "outputs": [],
   "source": [
    "X = data[cols]\n",
    "y = data['target']"
   ]
  },
  {
   "cell_type": "code",
   "execution_count": 18,
   "id": "811a80ba",
   "metadata": {},
   "outputs": [],
   "source": [
    "X_train, X_test, y_train, y_test = train_test_split(X, y)"
   ]
  },
  {
   "cell_type": "code",
   "execution_count": 19,
   "id": "ce268bbf",
   "metadata": {},
   "outputs": [],
   "source": [
    "model = linear_model.LogisticRegression()"
   ]
  },
  {
   "cell_type": "markdown",
   "id": "a98c3392",
   "metadata": {},
   "source": [
    "train the model"
   ]
  },
  {
   "cell_type": "code",
   "execution_count": 20,
   "id": "dcd4e854",
   "metadata": {},
   "outputs": [
    {
     "data": {
      "text/plain": [
       "LogisticRegression()"
      ]
     },
     "execution_count": 20,
     "metadata": {},
     "output_type": "execute_result"
    }
   ],
   "source": [
    "model.fit(X_train, y_train)"
   ]
  },
  {
   "cell_type": "markdown",
   "id": "95617dd2",
   "metadata": {},
   "source": [
    "Compute outputs for test set"
   ]
  },
  {
   "cell_type": "code",
   "execution_count": 21,
   "id": "0ef96ce5",
   "metadata": {},
   "outputs": [],
   "source": [
    "y_pred = model.predict(X_test)"
   ]
  },
  {
   "cell_type": "markdown",
   "id": "1cf81227",
   "metadata": {},
   "source": [
    "Compute precision fot test set"
   ]
  },
  {
   "cell_type": "code",
   "execution_count": 22,
   "id": "8ab9dc12",
   "metadata": {},
   "outputs": [],
   "source": [
    "precision = model.score(X_test, y_test)"
   ]
  },
  {
   "cell_type": "code",
   "execution_count": 23,
   "id": "bbbcbde9",
   "metadata": {},
   "outputs": [
    {
     "data": {
      "text/plain": [
       "64.55445544554456"
      ]
     },
     "execution_count": 23,
     "metadata": {},
     "output_type": "execute_result"
    }
   ],
   "source": [
    "precision*100"
   ]
  },
  {
   "cell_type": "markdown",
   "id": "5af5c02d",
   "metadata": {},
   "source": [
    "For classification tasks, it is important to also consider the precision, recall, and evetually draw the confusion matrix for the given results"
   ]
  },
  {
   "cell_type": "code",
   "execution_count": 26,
   "id": "bfcd5d03",
   "metadata": {},
   "outputs": [],
   "source": [
    "confusion_matrix = pd.crosstab(y_test, y_pred, rownames=['Actual User preference'], colnames=['Model prediction'])"
   ]
  },
  {
   "cell_type": "code",
   "execution_count": 34,
   "id": "53fd6ee9",
   "metadata": {},
   "outputs": [
    {
     "data": {
      "text/plain": [
       "<AxesSubplot:xlabel='Model prediction', ylabel='Actual User preference'>"
      ]
     },
     "execution_count": 34,
     "metadata": {},
     "output_type": "execute_result"
    },
    {
     "data": {
      "image/png": "[encoded data removed]",
      "text/plain": [
       "<Figure size 432x288 with 2 Axes>"
      ]
     },
     "metadata": {
      "needs_background": "light"
     },
     "output_type": "display_data"
    }
   ],
   "source": [
    "sns.heatmap(confusion_matrix, annot=True, cmap='Blues', fmt='d')"
   ]
  },
  {
   "cell_type": "markdown",
   "id": "7a091236",
   "metadata": {},
   "source": [
    "**Reminder**: The confusion matrix contains the following values"
   ]
  },
  {
   "cell_type": "markdown",
   "id": "df47ce1f",
   "metadata": {},
   "source": [
    "$$\\begin{bmatrix} True Negatives & False Positives \\\\ False Negatives & True Negatives \\end{bmatrix}$$"
   ]
  },
  {
   "cell_type": "markdown",
   "id": "ebbfcedc",
   "metadata": {},
   "source": [
    "Notice how the number for **False Negativs** is high, meaning that the *model is flagging tracks as unlikable when the user actually liked them*."
   ]
  },
  {
   "cell_type": "markdown",
   "id": "76d1216d",
   "metadata": {},
   "source": [
    "$$\n",
    "Precision = \\frac{TP}{TP + FP}\n",
    "$$\n",
    "\n",
    "$$\n",
    "Recall = \\frac{TP}{TP + FN}\n",
    "$$\n",
    "\n",
    "$$\n",
    "F_1 = \\frac{2TP}{2TP + FP + FN}\n",
    "$$"
   ]
  },
  {
   "cell_type": "code",
   "execution_count": 40,
   "id": "466f9357",
   "metadata": {},
   "outputs": [],
   "source": [
    "TP, FP = confusion_matrix[0]\n",
    "FN, TN = confusion_matrix[1]"
   ]
  },
  {
   "cell_type": "code",
   "execution_count": 41,
   "id": "6d56defe",
   "metadata": {},
   "outputs": [],
   "source": [
    "precision = TP / (TP + FP)\n",
    "recall = TP / (TP + FN)\n",
    "F1 = 2*TP / (2*TP + FP + FN)"
   ]
  },
  {
   "cell_type": "code",
   "execution_count": 46,
   "id": "fd0926cd",
   "metadata": {},
   "outputs": [
    {
     "name": "stdout",
     "output_type": "stream",
     "text": [
      "Precision = 0.60\n",
      "Recall = 0.72\n",
      "F1 = 0.65\n"
     ]
    }
   ],
   "source": [
    "print(\"Precision = {:.2f}\\nRecall = {:.2f}\\nF1 = {:.2f}\".format(precision, recall, F1))"
   ]
  }
 ],
 "metadata": {
  "kernelspec": {
   "display_name": "Python 3 (ipykernel)",
   "language": "python",
   "name": "python3"
  },
  "language_info": {
   "codemirror_mode": {
    "name": "ipython",
    "version": 3
   },
   "file_extension": ".py",
   "mimetype": "text/x-python",
   "name": "python",
   "nbconvert_exporter": "python",
   "pygments_lexer": "ipython3",
   "version": "3.9.12"
  }
 },
 "nbformat": 4,
 "nbformat_minor": 5
}
