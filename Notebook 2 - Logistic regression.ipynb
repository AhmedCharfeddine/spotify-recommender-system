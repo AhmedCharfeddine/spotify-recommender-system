{
 "cells": [
  {
   "cell_type": "markdown",
   "id": "92394fad",
   "metadata": {},
   "source": [
    "# Notebook 2: Logistic regression"
   ]
  },
  {
   "cell_type": "markdown",
   "id": "120a3c05",
   "metadata": {},
   "source": [
    "This notebook will train the user data on spotify using the Logistic regression model. To get a better understanding of what the data looks like, refer to *Notebook 1*."
   ]
  },
  {
   "cell_type": "code",
   "execution_count": 1,
   "id": "1bcaddc4",
   "metadata": {},
   "outputs": [],
   "source": [
    "import numpy as np\n",
    "import pandas as pd\n",
    "import seaborn as sns"
   ]
  },
  {
   "cell_type": "code",
   "execution_count": 2,
   "id": "d8016ae0",
   "metadata": {},
   "outputs": [],
   "source": [
    "from sklearn.model_selection import train_test_split\n",
    "from sklearn.metrics import confusion_matrix, classification_report\n",
    "from sklearn import linear_model"
   ]
  },
  {
   "cell_type": "code",
   "execution_count": 3,
   "id": "61973485",
   "metadata": {},
   "outputs": [],
   "source": [
    "data = pd.read_csv('processed_data.csv')"
   ]
  },
  {
   "cell_type": "code",
   "execution_count": 4,
   "id": "cca974ac",
   "metadata": {},
   "outputs": [],
   "source": [
    "cols = list(data.columns)"
   ]
  },
  {
   "cell_type": "code",
   "execution_count": 5,
   "id": "206d187c",
   "metadata": {},
   "outputs": [
    {
     "data": {
      "text/plain": [
       "['Unnamed: 0',\n",
       " 'duration_ms',\n",
       " 'key',\n",
       " 'loudness',\n",
       " 'tempo',\n",
       " 'acousticness',\n",
       " 'danceability',\n",
       " 'instrumentalness',\n",
       " 'liveness',\n",
       " 'mode',\n",
       " 'speechiness',\n",
       " 'valence',\n",
       " 'target']"
      ]
     },
     "execution_count": 5,
     "metadata": {},
     "output_type": "execute_result"
    }
   ],
   "source": [
    "cols"
   ]
  },
  {
   "cell_type": "markdown",
   "id": "1b223643",
   "metadata": {},
   "source": [
    "The columns `Unnamed 0` and `target` are not needed "
   ]
  },
  {
   "cell_type": "code",
   "execution_count": 6,
   "id": "2b0cb4a0",
   "metadata": {},
   "outputs": [],
   "source": [
    "cols.pop(0)\n",
    "cols.remove('target')"
   ]
  },
  {
   "cell_type": "code",
   "execution_count": 7,
   "id": "741ad321",
   "metadata": {},
   "outputs": [],
   "source": [
    "X = data[cols]\n",
    "y = data['target']"
   ]
  },
  {
   "cell_type": "code",
   "execution_count": 8,
   "id": "b24e7732",
   "metadata": {},
   "outputs": [],
   "source": [
    "X_train, X_test, y_train, y_test = train_test_split(X, y, test_size=0.2, random_state=0, stratify=y)"
   ]
  },
  {
   "cell_type": "code",
   "execution_count": 9,
   "id": "9fde337a",
   "metadata": {},
   "outputs": [],
   "source": [
    "model = linear_model.LogisticRegression()"
   ]
  },
  {
   "cell_type": "markdown",
   "id": "b8daa454",
   "metadata": {},
   "source": [
    "train the model"
   ]
  },
  {
   "cell_type": "code",
   "execution_count": 10,
   "id": "7a16de28",
   "metadata": {},
   "outputs": [
    {
     "data": {
      "text/plain": [
       "LogisticRegression()"
      ]
     },
     "execution_count": 10,
     "metadata": {},
     "output_type": "execute_result"
    }
   ],
   "source": [
    "model.fit(X_train, y_train)"
   ]
  },
  {
   "cell_type": "markdown",
   "id": "76947f13",
   "metadata": {},
   "source": [
    "Compute outputs for test set"
   ]
  },
  {
   "cell_type": "code",
   "execution_count": 11,
   "id": "c2ce1e5c",
   "metadata": {},
   "outputs": [],
   "source": [
    "y_pred = model.predict(X_test)"
   ]
  },
  {
   "cell_type": "markdown",
   "id": "349c8a13",
   "metadata": {},
   "source": [
    "Compute precision fot test set"
   ]
  },
  {
   "cell_type": "code",
   "execution_count": 12,
   "id": "0317f764",
   "metadata": {},
   "outputs": [],
   "source": [
    "precision = model.score(X_test, y_test)"
   ]
  },
  {
   "cell_type": "code",
   "execution_count": 13,
   "id": "3954537d",
   "metadata": {},
   "outputs": [
    {
     "data": {
      "text/plain": [
       "68.31683168316832"
      ]
     },
     "execution_count": 13,
     "metadata": {},
     "output_type": "execute_result"
    }
   ],
   "source": [
    "precision*100"
   ]
  },
  {
   "cell_type": "markdown",
   "id": "95bebb0b",
   "metadata": {},
   "source": [
    "For classification tasks, it is important to also consider the precision, recall, and evetually draw the confusion matrix for the given results"
   ]
  },
  {
   "cell_type": "code",
   "execution_count": 14,
   "id": "68b8bc59",
   "metadata": {},
   "outputs": [],
   "source": [
    "confusion_matrix = pd.crosstab(y_test, y_pred, rownames=['Actual User preference'], colnames=['Model prediction'])"
   ]
  },
  {
   "cell_type": "code",
   "execution_count": 15,
   "id": "7dd09f2b",
   "metadata": {},
   "outputs": [
    {
     "data": {
      "text/plain": [
       "<AxesSubplot:xlabel='Model prediction', ylabel='Actual User preference'>"
      ]
     },
     "execution_count": 15,
     "metadata": {},
     "output_type": "execute_result"
    },
    {
     "data": {
      "image/png": "[encoded data removed]",
      "text/plain": [
       "<Figure size 432x288 with 2 Axes>"
      ]
     },
     "metadata": {
      "needs_background": "light"
     },
     "output_type": "display_data"
    }
   ],
   "source": [
    "sns.heatmap(confusion_matrix, annot=True, cmap='Blues', fmt='d')"
   ]
  },
  {
   "cell_type": "markdown",
   "id": "8031d6b0",
   "metadata": {},
   "source": [
    "**Reminder**: The confusion matrix contains the following values"
   ]
  },
  {
   "cell_type": "markdown",
   "id": "32501016",
   "metadata": {},
   "source": [
    "$$\\begin{bmatrix} True Negatives & False Positives \\\\ False Negatives & True Negatives \\end{bmatrix}$$"
   ]
  },
  {
   "cell_type": "markdown",
   "id": "3a722adb",
   "metadata": {},
   "source": [
    "Notice how the number for **False Negativs** is high, meaning that the *model is flagging tracks as unlikable when the user actually liked them*."
   ]
  },
  {
   "cell_type": "markdown",
   "id": "9730d27f",
   "metadata": {},
   "source": [
    "$$\n",
    "Precision = \\frac{TP}{TP + FP}\n",
    "$$\n",
    "\n",
    "$$\n",
    "Recall = \\frac{TP}{TP + FN}\n",
    "$$\n",
    "\n",
    "$$\n",
    "F_1 = \\frac{2TP}{2TP + FP + FN}\n",
    "$$"
   ]
  },
  {
   "cell_type": "markdown",
   "id": "0a42c19a",
   "metadata": {},
   "source": [
    "Compute the F1-score relative to the first class `0`."
   ]
  },
  {
   "cell_type": "code",
   "execution_count": 17,
   "id": "30ed1e22",
   "metadata": {},
   "outputs": [],
   "source": [
    "TP, FP = confusion_matrix[0]\n",
    "FN, TN = confusion_matrix[1]"
   ]
  },
  {
   "cell_type": "code",
   "execution_count": 18,
   "id": "8b9d6471",
   "metadata": {},
   "outputs": [],
   "source": [
    "precision = TP / (TP + FP)\n",
    "recall = TP / (TP + FN)\n",
    "F1 = 2*TP / (2*TP + FP + FN)"
   ]
  },
  {
   "cell_type": "code",
   "execution_count": 19,
   "id": "ad03b654",
   "metadata": {},
   "outputs": [
    {
     "name": "stdout",
     "output_type": "stream",
     "text": [
      "Precision = 0.62\n",
      "Recall = 0.60\n",
      "F1 = 0.61\n"
     ]
    }
   ],
   "source": [
    "print(\"Precision = {:.2f}\\nRecall = {:.2f}\\nF1 = {:.2f}\".format(precision, recall, F1))"
   ]
  },
  {
   "cell_type": "markdown",
   "id": "52f57e02",
   "metadata": {},
   "source": [
    "In order to achieve standardised results for a better comparaison between the different algorithms, we'll be using the `classification_report` function provided in `sklearn.metrics`."
   ]
  },
  {
   "cell_type": "code",
   "execution_count": 16,
   "id": "29bd2243",
   "metadata": {},
   "outputs": [
    {
     "name": "stdout",
     "output_type": "stream",
     "text": [
      "              precision    recall  f1-score   support\n",
      "\n",
      "           0       0.67      0.70      0.69       200\n",
      "           1       0.70      0.66      0.68       204\n",
      "\n",
      "    accuracy                           0.68       404\n",
      "   macro avg       0.68      0.68      0.68       404\n",
      "weighted avg       0.68      0.68      0.68       404\n",
      "\n"
     ]
    }
   ],
   "source": [
    "print(classification_report(y_test, y_pred))"
   ]
  },
  {
   "cell_type": "code",
   "execution_count": null,
   "id": "0de8b0f4",
   "metadata": {},
   "outputs": [],
   "source": []
  }
 ],
 "metadata": {
  "kernelspec": {
   "display_name": "Python 3 (ipykernel)",
   "language": "python",
   "name": "python3"
  },
  "language_info": {
   "codemirror_mode": {
    "name": "ipython",
    "version": 3
   },
   "file_extension": ".py",
   "mimetype": "text/x-python",
   "name": "python",
   "nbconvert_exporter": "python",
   "pygments_lexer": "ipython3",
   "version": "3.9.7"
  }
 },
 "nbformat": 4,
 "nbformat_minor": 5
}
