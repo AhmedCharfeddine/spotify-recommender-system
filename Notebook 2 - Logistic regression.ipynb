{
 "cells": [
  {
   "cell_type": "markdown",
   "id": "92394fad",
   "metadata": {},
   "source": [
    "# Notebook 2: Logistic regression"
   ]
  },
  {
   "cell_type": "markdown",
   "id": "120a3c05",
   "metadata": {},
   "source": [
    "This notebook will train the user data on spotify using the Logistic regression model. To get a better understanding of what the data looks like, refer to *Notebook 1*."
   ]
  },
  {
   "cell_type": "code",
   "execution_count": 2,
   "id": "1bcaddc4",
   "metadata": {},
   "outputs": [],
   "source": [
    "import numpy as np\n",
    "import pandas as pd\n",
    "import seaborn as sns"
   ]
  },
  {
   "cell_type": "code",
   "execution_count": 3,
   "id": "d8016ae0",
   "metadata": {},
   "outputs": [],
   "source": [
    "from sklearn.model_selection import train_test_split\n",
    "from sklearn.metrics import confusion_matrix, classification_report\n",
    "from sklearn import linear_model"
   ]
  },
  {
   "cell_type": "code",
   "execution_count": 4,
   "id": "61973485",
   "metadata": {},
   "outputs": [],
   "source": [
    "data = pd.read_csv('processed_data.csv')"
   ]
  },
  {
   "cell_type": "code",
   "execution_count": 5,
   "id": "cca974ac",
   "metadata": {},
   "outputs": [],
   "source": [
    "cols = list(data.columns)"
   ]
  },
  {
   "cell_type": "code",
   "execution_count": 6,
   "id": "206d187c",
   "metadata": {},
   "outputs": [
    {
     "data": {
      "text/plain": [
       "['Unnamed: 0',\n",
       " 'duration_ms',\n",
       " 'key',\n",
       " 'loudness',\n",
       " 'tempo',\n",
       " 'acousticness',\n",
       " 'danceability',\n",
       " 'instrumentalness',\n",
       " 'liveness',\n",
       " 'mode',\n",
       " 'speechiness',\n",
       " 'valence',\n",
       " 'target']"
      ]
     },
     "execution_count": 6,
     "metadata": {},
     "output_type": "execute_result"
    }
   ],
   "source": [
    "cols"
   ]
  },
  {
   "cell_type": "markdown",
   "id": "1b223643",
   "metadata": {},
   "source": [
    "The columns `Unnamed 0` and `target` are not needed "
   ]
  },
  {
   "cell_type": "code",
   "execution_count": 7,
   "id": "2b0cb4a0",
   "metadata": {},
   "outputs": [],
   "source": [
    "cols.pop(0)\n",
    "cols.remove('target')"
   ]
  },
  {
   "cell_type": "code",
   "execution_count": 8,
   "id": "741ad321",
   "metadata": {},
   "outputs": [],
   "source": [
    "X = data[cols]\n",
    "y = data['target']"
   ]
  },
  {
   "cell_type": "code",
   "execution_count": 9,
   "id": "b24e7732",
   "metadata": {},
   "outputs": [],
   "source": [
    "X_train, X_test, y_train, y_test = train_test_split(X, y)"
   ]
  },
  {
   "cell_type": "code",
   "execution_count": 10,
   "id": "9fde337a",
   "metadata": {},
   "outputs": [],
   "source": [
    "model = linear_model.LogisticRegression()"
   ]
  },
  {
   "cell_type": "markdown",
   "id": "b8daa454",
   "metadata": {},
   "source": [
    "train the model"
   ]
  },
  {
   "cell_type": "code",
   "execution_count": 11,
   "id": "7a16de28",
   "metadata": {},
   "outputs": [
    {
     "data": {
      "text/html": [
       "<style>#sk-container-id-1 {color: black;background-color: white;}#sk-container-id-1 pre{padding: 0;}#sk-container-id-1 div.sk-toggleable {background-color: white;}#sk-container-id-1 label.sk-toggleable__label {cursor: pointer;display: block;width: 100%;margin-bottom: 0;padding: 0.3em;box-sizing: border-box;text-align: center;}#sk-container-id-1 label.sk-toggleable__label-arrow:before {content: \"▸\";float: left;margin-right: 0.25em;color: #696969;}#sk-container-id-1 label.sk-toggleable__label-arrow:hover:before {color: black;}#sk-container-id-1 div.sk-estimator:hover label.sk-toggleable__label-arrow:before {color: black;}#sk-container-id-1 div.sk-toggleable__content {max-height: 0;max-width: 0;overflow: hidden;text-align: left;background-color: #f0f8ff;}#sk-container-id-1 div.sk-toggleable__content pre {margin: 0.2em;color: black;border-radius: 0.25em;background-color: #f0f8ff;}#sk-container-id-1 input.sk-toggleable__control:checked~div.sk-toggleable__content {max-height: 200px;max-width: 100%;overflow: auto;}#sk-container-id-1 input.sk-toggleable__control:checked~label.sk-toggleable__label-arrow:before {content: \"▾\";}#sk-container-id-1 div.sk-estimator input.sk-toggleable__control:checked~label.sk-toggleable__label {background-color: #d4ebff;}#sk-container-id-1 div.sk-label input.sk-toggleable__control:checked~label.sk-toggleable__label {background-color: #d4ebff;}#sk-container-id-1 input.sk-hidden--visually {border: 0;clip: rect(1px 1px 1px 1px);clip: rect(1px, 1px, 1px, 1px);height: 1px;margin: -1px;overflow: hidden;padding: 0;position: absolute;width: 1px;}#sk-container-id-1 div.sk-estimator {font-family: monospace;background-color: #f0f8ff;border: 1px dotted black;border-radius: 0.25em;box-sizing: border-box;margin-bottom: 0.5em;}#sk-container-id-1 div.sk-estimator:hover {background-color: #d4ebff;}#sk-container-id-1 div.sk-parallel-item::after {content: \"\";width: 100%;border-bottom: 1px solid gray;flex-grow: 1;}#sk-container-id-1 div.sk-label:hover label.sk-toggleable__label {background-color: #d4ebff;}#sk-container-id-1 div.sk-serial::before {content: \"\";position: absolute;border-left: 1px solid gray;box-sizing: border-box;top: 0;bottom: 0;left: 50%;z-index: 0;}#sk-container-id-1 div.sk-serial {display: flex;flex-direction: column;align-items: center;background-color: white;padding-right: 0.2em;padding-left: 0.2em;position: relative;}#sk-container-id-1 div.sk-item {position: relative;z-index: 1;}#sk-container-id-1 div.sk-parallel {display: flex;align-items: stretch;justify-content: center;background-color: white;position: relative;}#sk-container-id-1 div.sk-item::before, #sk-container-id-1 div.sk-parallel-item::before {content: \"\";position: absolute;border-left: 1px solid gray;box-sizing: border-box;top: 0;bottom: 0;left: 50%;z-index: -1;}#sk-container-id-1 div.sk-parallel-item {display: flex;flex-direction: column;z-index: 1;position: relative;background-color: white;}#sk-container-id-1 div.sk-parallel-item:first-child::after {align-self: flex-end;width: 50%;}#sk-container-id-1 div.sk-parallel-item:last-child::after {align-self: flex-start;width: 50%;}#sk-container-id-1 div.sk-parallel-item:only-child::after {width: 0;}#sk-container-id-1 div.sk-dashed-wrapped {border: 1px dashed gray;margin: 0 0.4em 0.5em 0.4em;box-sizing: border-box;padding-bottom: 0.4em;background-color: white;}#sk-container-id-1 div.sk-label label {font-family: monospace;font-weight: bold;display: inline-block;line-height: 1.2em;}#sk-container-id-1 div.sk-label-container {text-align: center;}#sk-container-id-1 div.sk-container {/* jupyter's `normalize.less` sets `[hidden] { display: none; }` but bootstrap.min.css set `[hidden] { display: none !important; }` so we also need the `!important` here to be able to override the default hidden behavior on the sphinx rendered scikit-learn.org. See: https://github.com/scikit-learn/scikit-learn/issues/21755 */display: inline-block !important;position: relative;}#sk-container-id-1 div.sk-text-repr-fallback {display: none;}</style><div id=\"sk-container-id-1\" class=\"sk-top-container\"><div class=\"sk-text-repr-fallback\"><pre>LogisticRegression()</pre><b>In a Jupyter environment, please rerun this cell to show the HTML representation or trust the notebook. <br />On GitHub, the HTML representation is unable to render, please try loading this page with nbviewer.org.</b></div><div class=\"sk-container\" hidden><div class=\"sk-item\"><div class=\"sk-estimator sk-toggleable\"><input class=\"sk-toggleable__control sk-hidden--visually\" id=\"sk-estimator-id-1\" type=\"checkbox\" checked><label for=\"sk-estimator-id-1\" class=\"sk-toggleable__label sk-toggleable__label-arrow\">LogisticRegression</label><div class=\"sk-toggleable__content\"><pre>LogisticRegression()</pre></div></div></div></div></div>"
      ],
      "text/plain": [
       "LogisticRegression()"
      ]
     },
     "execution_count": 11,
     "metadata": {},
     "output_type": "execute_result"
    }
   ],
   "source": [
    "model.fit(X_train, y_train)"
   ]
  },
  {
   "cell_type": "markdown",
   "id": "76947f13",
   "metadata": {},
   "source": [
    "Compute outputs for test set"
   ]
  },
  {
   "cell_type": "code",
   "execution_count": 12,
   "id": "c2ce1e5c",
   "metadata": {},
   "outputs": [],
   "source": [
    "y_pred = model.predict(X_test)"
   ]
  },
  {
   "cell_type": "markdown",
   "id": "349c8a13",
   "metadata": {},
   "source": [
    "Compute precision fot test set"
   ]
  },
  {
   "cell_type": "code",
   "execution_count": 13,
   "id": "0317f764",
   "metadata": {},
   "outputs": [],
   "source": [
    "precision = model.score(X_test, y_test)"
   ]
  },
  {
   "cell_type": "code",
   "execution_count": 14,
   "id": "3954537d",
   "metadata": {},
   "outputs": [
    {
     "data": {
      "text/plain": [
       "61.98019801980198"
      ]
     },
     "execution_count": 14,
     "metadata": {},
     "output_type": "execute_result"
    }
   ],
   "source": [
    "precision*100"
   ]
  },
  {
   "cell_type": "markdown",
   "id": "95bebb0b",
   "metadata": {},
   "source": [
    "For classification tasks, it is important to also consider the precision, recall, and evetually draw the confusion matrix for the given results"
   ]
  },
  {
   "cell_type": "code",
   "execution_count": 15,
   "id": "68b8bc59",
   "metadata": {},
   "outputs": [],
   "source": [
    "confusion_matrix = pd.crosstab(y_test, y_pred, rownames=['Actual User preference'], colnames=['Model prediction'])"
   ]
  },
  {
   "cell_type": "code",
   "execution_count": 16,
   "id": "7dd09f2b",
   "metadata": {},
   "outputs": [
    {
     "data": {
      "text/plain": [
       "<AxesSubplot:xlabel='Model prediction', ylabel='Actual User preference'>"
      ]
     },
     "execution_count": 16,
     "metadata": {},
     "output_type": "execute_result"
    },
    {
     "data": {
      "image/png": "[encoded data removed]",
      "text/plain": [
       "<Figure size 432x288 with 2 Axes>"
      ]
     },
     "metadata": {
      "needs_background": "light"
     },
     "output_type": "display_data"
    }
   ],
   "source": [
    "sns.heatmap(confusion_matrix, annot=True, cmap='Blues', fmt='d')"
   ]
  },
  {
   "cell_type": "markdown",
   "id": "8031d6b0",
   "metadata": {},
   "source": [
    "**Reminder**: The confusion matrix contains the following values"
   ]
  },
  {
   "cell_type": "markdown",
   "id": "32501016",
   "metadata": {},
   "source": [
    "$$\\begin{bmatrix} True Negatives & False Positives \\\\ False Negatives & True Negatives \\end{bmatrix}$$"
   ]
  },
  {
   "cell_type": "markdown",
   "id": "3a722adb",
   "metadata": {},
   "source": [
    "Notice how the number for **False Negativs** is high, meaning that the *model is flagging tracks as unlikable when the user actually liked them*."
   ]
  },
  {
   "cell_type": "markdown",
   "id": "9730d27f",
   "metadata": {},
   "source": [
    "$$\n",
    "Precision = \\frac{TP}{TP + FP}\n",
    "$$\n",
    "\n",
    "$$\n",
    "Recall = \\frac{TP}{TP + FN}\n",
    "$$\n",
    "\n",
    "$$\n",
    "F_1 = \\frac{2TP}{2TP + FP + FN}\n",
    "$$"
   ]
  },
  {
   "cell_type": "markdown",
   "id": "0a42c19a",
   "metadata": {},
   "source": [
    "Compute the F1-score relative to the first class `0`."
   ]
  },
  {
   "cell_type": "code",
   "execution_count": 17,
   "id": "30ed1e22",
   "metadata": {},
   "outputs": [],
   "source": [
    "TP, FP = confusion_matrix[0]\n",
    "FN, TN = confusion_matrix[1]"
   ]
  },
  {
   "cell_type": "code",
   "execution_count": 18,
   "id": "8b9d6471",
   "metadata": {},
   "outputs": [],
   "source": [
    "precision = TP / (TP + FP)\n",
    "recall = TP / (TP + FN)\n",
    "F1 = 2*TP / (2*TP + FP + FN)"
   ]
  },
  {
   "cell_type": "code",
   "execution_count": 19,
   "id": "ad03b654",
   "metadata": {},
   "outputs": [
    {
     "name": "stdout",
     "output_type": "stream",
     "text": [
      "Precision = 0.62\n",
      "Recall = 0.60\n",
      "F1 = 0.61\n"
     ]
    }
   ],
   "source": [
    "print(\"Precision = {:.2f}\\nRecall = {:.2f}\\nF1 = {:.2f}\".format(precision, recall, F1))"
   ]
  },
  {
   "cell_type": "markdown",
   "id": "52f57e02",
   "metadata": {},
   "source": [
    "In order to achieve standardised results for a better comparaison between the different algorithms, we'll be using the `classification_report` function provided in `sklearn.metrics`."
   ]
  },
  {
   "cell_type": "code",
   "execution_count": 20,
   "id": "29bd2243",
   "metadata": {},
   "outputs": [
    {
     "name": "stdout",
     "output_type": "stream",
     "text": [
      "              precision    recall  f1-score   support\n",
      "\n",
      "           0       0.62      0.60      0.61       252\n",
      "           1       0.62      0.64      0.63       253\n",
      "\n",
      "    accuracy                           0.62       505\n",
      "   macro avg       0.62      0.62      0.62       505\n",
      "weighted avg       0.62      0.62      0.62       505\n",
      "\n"
     ]
    }
   ],
   "source": [
    "print(classification_report(y_test, y_pred))"
   ]
  }
 ],
 "metadata": {
  "kernelspec": {
   "display_name": "Python 3 (ipykernel)",
   "language": "python",
   "name": "python3"
  },
  "language_info": {
   "codemirror_mode": {
    "name": "ipython",
    "version": 3
   },
   "file_extension": ".py",
   "mimetype": "text/x-python",
   "name": "python",
   "nbconvert_exporter": "python",
   "pygments_lexer": "ipython3",
   "version": "3.10.5"
  }
 },
 "nbformat": 4,
 "nbformat_minor": 5
}
