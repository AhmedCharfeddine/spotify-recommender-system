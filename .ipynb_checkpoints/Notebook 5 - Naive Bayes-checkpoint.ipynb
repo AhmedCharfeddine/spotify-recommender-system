{
 "cells": [
  {
   "cell_type": "markdown",
   "id": "408ac109",
   "metadata": {},
   "source": [
    "# Notebook 5: Naive Bayes"
   ]
  },
  {
   "cell_type": "markdown",
   "id": "a3e13859",
   "metadata": {},
   "source": [
    "The reason for the name **Naive** is that word order does not matter in the calculation and that we can assume each feature (word) is conditionally **independent** (assume that all features in  are **mutually independen**t, conditional on the target class). It might sound too simplistic to not care about word order and grammatical rules, but this has shown to work well enough in practice and dramatically simplifies our calculation."
   ]
  },
  {
   "cell_type": "markdown",
   "id": "402824c2",
   "metadata": {},
   "source": [
    "This notebook will train the user data on spotify using the Naive Bayes model. To get a better understanding of what the data looks like, refer to Notebook 1"
   ]
  },
  {
   "cell_type": "code",
   "execution_count": 22,
   "id": "71157d70",
   "metadata": {},
   "outputs": [],
   "source": [
    "import numpy as np\n",
    "import pandas as pd\n",
    "import seaborn as sns\n",
    "from sklearn.naive_bayes import GaussianNB\n",
    "from sklearn.model_selection import train_test_split\n",
    "from sklearn.metrics import classification_report\n",
    "from sklearn.model_selection import GridSearchCV"
   ]
  },
  {
   "cell_type": "code",
   "execution_count": 13,
   "id": "b0fea1f7",
   "metadata": {},
   "outputs": [],
   "source": [
    "data = pd.read_csv('processed_data.csv')"
   ]
  },
  {
   "cell_type": "code",
   "execution_count": 14,
   "id": "9b495334",
   "metadata": {},
   "outputs": [],
   "source": [
    "cols = list(data.columns)\n",
    "cols.pop(0)\n",
    "cols.remove('target')"
   ]
  },
  {
   "cell_type": "code",
   "execution_count": 15,
   "id": "93ab2713",
   "metadata": {},
   "outputs": [],
   "source": [
    "X = data[cols]\n",
    "y = data['target']\n",
    "X_train, X_test, y_train, y_test = train_test_split(X, y, test_size=0.2, random_state=1, stratify=y)"
   ]
  },
  {
   "cell_type": "code",
   "execution_count": 16,
   "id": "80547830",
   "metadata": {},
   "outputs": [
    {
     "data": {
      "text/plain": [
       "GaussianNB()"
      ]
     },
     "execution_count": 16,
     "metadata": {},
     "output_type": "execute_result"
    }
   ],
   "source": [
    "model=GaussianNB()\n",
    "model.fit(X_train,y_train)"
   ]
  },
  {
   "cell_type": "code",
   "execution_count": 17,
   "id": "006760e2",
   "metadata": {},
   "outputs": [],
   "source": [
    "y_pred=model.predict(X_test)\n",
    "confusion_matrix = pd.crosstab(y_test, y_pred, rownames=['Actual User preference'], colnames=['Model prediction'])"
   ]
  },
  {
   "cell_type": "code",
   "execution_count": 18,
   "id": "93822f2a",
   "metadata": {},
   "outputs": [
    {
     "data": {
      "text/plain": [
       "<AxesSubplot:xlabel='Model prediction', ylabel='Actual User preference'>"
      ]
     },
     "execution_count": 18,
     "metadata": {},
     "output_type": "execute_result"
    },
    {
     "data": {
      "image/png": "[encoded data removed]",
      "text/plain": [
       "<Figure size 432x288 with 2 Axes>"
      ]
     },
     "metadata": {
      "needs_background": "light"
     },
     "output_type": "display_data"
    }
   ],
   "source": [
    "sns.heatmap(confusion_matrix, annot=True, cmap='Blues', fmt='d')"
   ]
  },
  {
   "cell_type": "code",
   "execution_count": 19,
   "id": "1e554ced",
   "metadata": {},
   "outputs": [
    {
     "name": "stdout",
     "output_type": "stream",
     "text": [
      "              precision    recall  f1-score   support\n",
      "\n",
      "           0       0.61      0.71      0.66       200\n",
      "           1       0.66      0.54      0.60       204\n",
      "\n",
      "    accuracy                           0.63       404\n",
      "   macro avg       0.63      0.63      0.63       404\n",
      "weighted avg       0.63      0.63      0.63       404\n",
      "\n"
     ]
    }
   ],
   "source": [
    "print(classification_report(y_test,y_pred))"
   ]
  },
  {
   "cell_type": "markdown",
   "id": "b8cfaaaf",
   "metadata": {},
   "source": [
    "### Hyperparameter Tuning"
   ]
  },
  {
   "cell_type": "markdown",
   "id": "75c9e2a2",
   "metadata": {},
   "source": [
    "To determine the hyperparmeters regarding NB we use : get_params()"
   ]
  },
  {
   "cell_type": "code",
   "execution_count": 11,
   "id": "efdab3bb",
   "metadata": {
    "scrolled": true
   },
   "outputs": [
    {
     "name": "stdout",
     "output_type": "stream",
     "text": [
      "{'priors': None, 'var_smoothing': 1e-09}\n"
     ]
    }
   ],
   "source": [
    "print(model.get_params())"
   ]
  },
  {
   "cell_type": "markdown",
   "id": "9eb982a8",
   "metadata": {},
   "source": [
    "**var_smoothing** is a stability calculation to widen (or smooth) the curve and therefore account for more samples that are further away from the distribution mean"
   ]
  },
  {
   "cell_type": "code",
   "execution_count": 81,
   "id": "4d966285",
   "metadata": {},
   "outputs": [],
   "source": [
    "param_grid_nb = {\n",
    "    'var_smoothing': np.logspace(0,-9, num=101)\n",
    "}"
   ]
  },
  {
   "cell_type": "markdown",
   "id": "2d427c40",
   "metadata": {},
   "source": [
    "In this case, np.logspace returns numbers spaced evenly on a log scale, starts from 0, ends at -9, and generates **101** samples."
   ]
  },
  {
   "cell_type": "code",
   "execution_count": 103,
   "id": "1cdde31e",
   "metadata": {},
   "outputs": [
    {
     "name": "stdout",
     "output_type": "stream",
     "text": [
      "Fitting 10 folds for each of 101 candidates, totalling 1010 fits\n",
      "GaussianNB(var_smoothing=0.006918309709189363)\n"
     ]
    }
   ],
   "source": [
    "model_grid = GridSearchCV(estimator=GaussianNB(), param_grid=param_grid_nb, verbose=1, cv=10)\n",
    "model_grid.fit(X_train, y_train)\n",
    "model=model_grid.best_estimator_\n",
    "print(model_grid.best_estimator_)"
   ]
  },
  {
   "cell_type": "markdown",
   "id": "041ab0a4",
   "metadata": {},
   "source": [
    "**estimator** is the machine learning model of interest, provided the model has a scoring function; in this case, the model assigned is GaussianNB().<br>\n",
    "**param_grid** is a dictionary with parameters names (string) as keys and lists of parameter settings to try as values; this enables searching over any sequence of parameter settings.<br>\n",
    "**verbose** is the verbosity: the higher, the more messages; in this case, it is set to 1.<br>\n",
    "**cv** is the **cross-validation** generator or an iterable, in this case, there is a 10-fold cross-validation."
   ]
  },
  {
   "cell_type": "code",
   "execution_count": 104,
   "id": "21dcffbf",
   "metadata": {},
   "outputs": [],
   "source": [
    "y_pred=model.predict(X_test)\n",
    "confusion_matrix = pd.crosstab(y_test, y_pred, rownames=['Actual User preference'], colnames=['Model prediction'])"
   ]
  },
  {
   "cell_type": "code",
   "execution_count": 105,
   "id": "23d658c1",
   "metadata": {},
   "outputs": [
    {
     "data": {
      "text/plain": [
       "<AxesSubplot:xlabel='Model prediction', ylabel='Actual User preference'>"
      ]
     },
     "execution_count": 105,
     "metadata": {},
     "output_type": "execute_result"
    },
    {
     "data": {
      "image/png": "[encoded data removed]",
      "text/plain": [
       "<Figure size 432x288 with 2 Axes>"
      ]
     },
     "metadata": {
      "needs_background": "light"
     },
     "output_type": "display_data"
    }
   ],
   "source": [
    "sns.heatmap(confusion_matrix, annot=True, cmap='Blues', fmt='d')"
   ]
  },
  {
   "cell_type": "code",
   "execution_count": 95,
   "id": "82d1b12c",
   "metadata": {},
   "outputs": [
    {
     "name": "stdout",
     "output_type": "stream",
     "text": [
      "              precision    recall  f1-score   support\n",
      "\n",
      "           0       0.63      0.72      0.67       200\n",
      "           1       0.68      0.58      0.63       204\n",
      "\n",
      "    accuracy                           0.65       404\n",
      "   macro avg       0.65      0.65      0.65       404\n",
      "weighted avg       0.65      0.65      0.65       404\n",
      "\n"
     ]
    }
   ],
   "source": [
    "print(classification_report(y_test,y_pred))"
   ]
  }
 ],
 "metadata": {
  "kernelspec": {
   "display_name": "Python 3 (ipykernel)",
   "language": "python",
   "name": "python3"
  },
  "language_info": {
   "codemirror_mode": {
    "name": "ipython",
    "version": 3
   },
   "file_extension": ".py",
   "mimetype": "text/x-python",
   "name": "python",
   "nbconvert_exporter": "python",
   "pygments_lexer": "ipython3",
   "version": "3.9.7"
  }
 },
 "nbformat": 4,
 "nbformat_minor": 5
}
