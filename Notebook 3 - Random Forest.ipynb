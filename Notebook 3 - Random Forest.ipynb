{
 "cells": [
  {
   "cell_type": "markdown",
   "id": "0c07f15d",
   "metadata": {},
   "source": [
    "# Notebook 5: Random Forest"
   ]
  },
  {
   "cell_type": "markdown",
   "id": "aa6e004f",
   "metadata": {},
   "source": [
    "**Random Forest** is a Supervised Machine Learning Algorithm that is used widely in **Classification** and **Regression problems**. It builds **decision trees** on different samples and takes their majority vote for classification and average in case of regression."
   ]
  },
  {
   "cell_type": "markdown",
   "id": "740abc26",
   "metadata": {},
   "source": [
    "![](docs/RF.png)"
   ]
  },
  {
   "cell_type": "markdown",
   "id": "71816499",
   "metadata": {},
   "source": [
    "This notebook will train the user data on spotify using the Random Forest model. To get a better understanding of what the data looks like, refer to Notebook 1"
   ]
  },
  {
   "cell_type": "code",
   "execution_count": 61,
   "id": "0c266f67",
   "metadata": {},
   "outputs": [],
   "source": [
    "import pandas as pd\n",
    "import numpy as np\n",
    "from sklearn.ensemble import RandomForestClassifier\n",
    "from sklearn.model_selection import train_test_split\n",
    "from sklearn.metrics import classification_report\n",
    "from sklearn.model_selection import RandomizedSearchCV as RSCV\n",
    "from sklearn.model_selection import GridSearchCV\n",
    "import seaborn as sns"
   ]
  },
  {
   "cell_type": "code",
   "execution_count": 32,
   "id": "b0956aa8",
   "metadata": {},
   "outputs": [],
   "source": [
    "data = pd.read_csv('processed_data.csv')"
   ]
  },
  {
   "cell_type": "code",
   "execution_count": 33,
   "id": "d322ac54",
   "metadata": {},
   "outputs": [],
   "source": [
    "cols = list(data.columns)\n",
    "cols.pop(0)\n",
    "cols.remove('target')"
   ]
  },
  {
   "cell_type": "code",
   "execution_count": 34,
   "id": "fd51fbcd",
   "metadata": {},
   "outputs": [],
   "source": [
    "X = data[cols]\n",
    "y = data['target']\n",
    "X_train, X_test, y_train, y_test = train_test_split(X, y, test_size=0.2, random_state=0, stratify=y)"
   ]
  },
  {
   "cell_type": "code",
   "execution_count": 35,
   "id": "3589dabe",
   "metadata": {},
   "outputs": [
    {
     "data": {
      "text/plain": [
       "RandomForestClassifier()"
      ]
     },
     "execution_count": 35,
     "metadata": {},
     "output_type": "execute_result"
    }
   ],
   "source": [
    "model = RandomForestClassifier()\n",
    "model.fit(X_train,y_train)"
   ]
  },
  {
   "cell_type": "code",
   "execution_count": 36,
   "id": "0f002b3b",
   "metadata": {},
   "outputs": [],
   "source": [
    "y_pred=model.predict(X_test)\n",
    "confusion_matrix = pd.crosstab(y_test, y_pred, rownames=['Actual User preference'], colnames=['Model prediction'])"
   ]
  },
  {
   "cell_type": "code",
   "execution_count": 37,
   "id": "193ae37c",
   "metadata": {},
   "outputs": [
    {
     "data": {
      "text/plain": [
       "<AxesSubplot:xlabel='Model prediction', ylabel='Actual User preference'>"
      ]
     },
     "execution_count": 37,
     "metadata": {},
     "output_type": "execute_result"
    },
    {
     "data": {
      "image/png": "[encoded data removed]",
      "text/plain": [
       "<Figure size 432x288 with 2 Axes>"
      ]
     },
     "metadata": {
      "needs_background": "light"
     },
     "output_type": "display_data"
    }
   ],
   "source": [
    "sns.heatmap(confusion_matrix, annot=True, cmap='Blues', fmt='d')"
   ]
  },
  {
   "cell_type": "code",
   "execution_count": 38,
   "id": "41883f90",
   "metadata": {},
   "outputs": [
    {
     "name": "stdout",
     "output_type": "stream",
     "text": [
      "              precision    recall  f1-score   support\n",
      "\n",
      "           0       0.77      0.74      0.75       200\n",
      "           1       0.75      0.78      0.77       204\n",
      "\n",
      "    accuracy                           0.76       404\n",
      "   macro avg       0.76      0.76      0.76       404\n",
      "weighted avg       0.76      0.76      0.76       404\n",
      "\n"
     ]
    }
   ],
   "source": [
    "print(classification_report(y_test,y_pred))"
   ]
  },
  {
   "cell_type": "markdown",
   "id": "38720db1",
   "metadata": {},
   "source": [
    "To determine the hyperparmeters regarding Random Forest we use : get_params()"
   ]
  },
  {
   "cell_type": "code",
   "execution_count": 62,
   "id": "2e89cbe1",
   "metadata": {},
   "outputs": [
    {
     "name": "stdout",
     "output_type": "stream",
     "text": [
      "{'bootstrap': True, 'ccp_alpha': 0.0, 'class_weight': None, 'criterion': 'gini', 'max_depth': None, 'max_features': 'auto', 'max_leaf_nodes': None, 'max_samples': None, 'min_impurity_decrease': 0.0, 'min_impurity_split': None, 'min_samples_leaf': 1, 'min_samples_split': 2, 'min_weight_fraction_leaf': 0.0, 'n_estimators': 100, 'n_jobs': None, 'oob_score': False, 'random_state': 0, 'verbose': 0, 'warm_start': False}\n"
     ]
    }
   ],
   "source": [
    "rf = RandomForestClassifier(random_state = 0)\n",
    "print(rf.get_params())"
   ]
  },
  {
   "cell_type": "markdown",
   "id": "21f4ef0b",
   "metadata": {},
   "source": [
    "### Hyperparameter Tuning"
   ]
  },
  {
   "cell_type": "markdown",
   "id": "d74c7298",
   "metadata": {},
   "source": [
    "In this section we will try to find the best model by changing the hyperparameters"
   ]
  },
  {
   "cell_type": "markdown",
   "id": "b8d3e411",
   "metadata": {},
   "source": [
    "#### RandomizedSearchCV"
   ]
  },
  {
   "cell_type": "markdown",
   "id": "f073efdc",
   "metadata": {},
   "source": [
    "In this case we chose to use **RandomizedSearchCV** instead of **GridSearchCV** because it's faster"
   ]
  },
  {
   "cell_type": "code",
   "execution_count": 75,
   "id": "463536e3",
   "metadata": {},
   "outputs": [
    {
     "name": "stdout",
     "output_type": "stream",
     "text": [
      "Fitting 3 folds for each of 15 candidates, totalling 45 fits\n"
     ]
    }
   ],
   "source": [
    "param_grid = {'n_estimators':np.arange(185,500,20),\n",
    "              'max_features':np.arange(0.1, 1, 0.1),\n",
    "              'max_depth': [7, 9, 11, 15],\n",
    "              'max_samples': [0.3, 0.5, 0.8],\n",
    "             'random_state': [0]}\n",
    "\n",
    "model = RSCV(rf, param_grid, n_iter = 15, cv=3 , verbose=1).fit(X_train, y_train)\n",
    "model = model.best_estimator_"
   ]
  },
  {
   "cell_type": "markdown",
   "id": "2b093094",
   "metadata": {},
   "source": [
    "**n_estimators** : number of trees in the foreset <br>\n",
    "**max_features** : max number of features considered for splitting a node<br>\n",
    "**max_depth** : max number of levels in each decision tree<br>\n",
    "**max_samples**: if bootstrap is True, the number of samples to draw from X to train each base estimator"
   ]
  },
  {
   "cell_type": "code",
   "execution_count": 76,
   "id": "c74237b1",
   "metadata": {},
   "outputs": [
    {
     "data": {
      "text/plain": [
       "<AxesSubplot:xlabel='Model prediction', ylabel='Actual User preference'>"
      ]
     },
     "execution_count": 76,
     "metadata": {},
     "output_type": "execute_result"
    },
    {
     "data": {
      "image/png": "[encoded data removed]",
      "text/plain": [
       "<Figure size 432x288 with 2 Axes>"
      ]
     },
     "metadata": {
      "needs_background": "light"
     },
     "output_type": "display_data"
    }
   ],
   "source": [
    "y_pred=model.predict(X_test)\n",
    "confusion_matrix = pd.crosstab(y_test, y_pred, rownames=['Actual User preference'], colnames=['Model prediction'])\n",
    "sns.heatmap(confusion_matrix, annot=True, cmap='Blues', fmt='d')"
   ]
  },
  {
   "cell_type": "code",
   "execution_count": 77,
   "id": "d65e76ae",
   "metadata": {},
   "outputs": [
    {
     "name": "stdout",
     "output_type": "stream",
     "text": [
      "              precision    recall  f1-score   support\n",
      "\n",
      "           0       0.77      0.78      0.77       200\n",
      "           1       0.78      0.77      0.77       204\n",
      "\n",
      "    accuracy                           0.77       404\n",
      "   macro avg       0.77      0.77      0.77       404\n",
      "weighted avg       0.77      0.77      0.77       404\n",
      "\n"
     ]
    }
   ],
   "source": [
    "print(classification_report(y_test,y_pred))"
   ]
  },
  {
   "cell_type": "code",
   "execution_count": 78,
   "id": "5e2c5163",
   "metadata": {},
   "outputs": [
    {
     "name": "stdout",
     "output_type": "stream",
     "text": [
      "{'bootstrap': True, 'ccp_alpha': 0.0, 'class_weight': None, 'criterion': 'gini', 'max_depth': 15, 'max_features': 0.30000000000000004, 'max_leaf_nodes': None, 'max_samples': 0.5, 'min_impurity_decrease': 0.0, 'min_impurity_split': None, 'min_samples_leaf': 1, 'min_samples_split': 2, 'min_weight_fraction_leaf': 0.0, 'n_estimators': 325, 'n_jobs': None, 'oob_score': False, 'random_state': 0, 'verbose': 0, 'warm_start': False}\n"
     ]
    }
   ],
   "source": [
    "print(model.get_params())"
   ]
  },
  {
   "cell_type": "code",
   "execution_count": null,
   "id": "f9d5c2ee",
   "metadata": {},
   "outputs": [],
   "source": []
  }
 ],
 "metadata": {
  "kernelspec": {
   "display_name": "Python 3 (ipykernel)",
   "language": "python",
   "name": "python3"
  },
  "language_info": {
   "codemirror_mode": {
    "name": "ipython",
    "version": 3
   },
   "file_extension": ".py",
   "mimetype": "text/x-python",
   "name": "python",
   "nbconvert_exporter": "python",
   "pygments_lexer": "ipython3",
   "version": "3.9.7"
  }
 },
 "nbformat": 4,
 "nbformat_minor": 5
}
