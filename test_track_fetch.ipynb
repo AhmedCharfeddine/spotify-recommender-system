{
 "cells": [
  {
   "cell_type": "markdown",
   "metadata": {},
   "source": [
    "This notebook tests the Web API that Spotify provides through the `spotipy` module."
   ]
  },
  {
   "cell_type": "code",
   "execution_count": 2,
   "metadata": {},
   "outputs": [],
   "source": [
    "import spotipy\n",
    "from spotipy.oauth2 import SpotifyClientCredentials\n",
    "from API_KEY import PUBLIC_KEY, PRIVATE_KEY\n",
    "\n",
    "auth_manager = SpotifyClientCredentials(PUBLIC_KEY, PRIVATE_KEY)\n",
    "sp = spotipy.Spotify(auth_manager=auth_manager)"
   ]
  },
  {
   "cell_type": "code",
   "execution_count": 7,
   "metadata": {},
   "outputs": [],
   "source": [
    "request = sp.audio_features('https://open.spotify.com/track/2LVljQz7RmgtSl9Ea0hz7q?si=0340795ad05b4570')[0]"
   ]
  },
  {
   "cell_type": "code",
   "execution_count": 8,
   "metadata": {},
   "outputs": [
    {
     "data": {
      "text/plain": [
       "{'danceability': 0.406,\n",
       " 'energy': 0.55,\n",
       " 'key': 5,\n",
       " 'loudness': -10.187,\n",
       " 'mode': 0,\n",
       " 'speechiness': 0.0346,\n",
       " 'acousticness': 0.00268,\n",
       " 'instrumentalness': 0.00419,\n",
       " 'liveness': 0.15,\n",
       " 'valence': 0.367,\n",
       " 'tempo': 125.955,\n",
       " 'type': 'audio_features',\n",
       " 'id': '2LVljQz7RmgtSl9Ea0hz7q',\n",
       " 'uri': 'spotify:track:2LVljQz7RmgtSl9Ea0hz7q',\n",
       " 'track_href': 'https://api.spotify.com/v1/tracks/2LVljQz7RmgtSl9Ea0hz7q',\n",
       " 'analysis_url': 'https://api.spotify.com/v1/audio-analysis/2LVljQz7RmgtSl9Ea0hz7q',\n",
       " 'duration_ms': 238693,\n",
       " 'time_signature': 4}"
      ]
     },
     "execution_count": 8,
     "metadata": {},
     "output_type": "execute_result"
    }
   ],
   "source": [
    "request"
   ]
  },
  {
   "cell_type": "code",
   "execution_count": null,
   "metadata": {},
   "outputs": [],
   "source": []
  }
 ],
 "metadata": {
  "kernelspec": {
   "display_name": "Python 3.10.5 64-bit (microsoft store)",
   "language": "python",
   "name": "python3"
  },
  "language_info": {
   "codemirror_mode": {
    "name": "ipython",
    "version": 3
   },
   "file_extension": ".py",
   "mimetype": "text/x-python",
   "name": "python",
   "nbconvert_exporter": "python",
   "pygments_lexer": "ipython3",
   "version": "3.10.5"
  },
  "orig_nbformat": 4,
  "vscode": {
   "interpreter": {
    "hash": "9803be3a0da014ffd7dc199ce9e9fa8c4d81aebe14cd8d9d781ddf436cdf03d4"
   }
  }
 },
 "nbformat": 4,
 "nbformat_minor": 2
}
