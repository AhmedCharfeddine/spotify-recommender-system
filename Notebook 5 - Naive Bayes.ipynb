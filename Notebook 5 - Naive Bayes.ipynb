{
 "cells": [
  {
   "cell_type": "markdown",
   "id": "408ac109",
   "metadata": {},
   "source": [
    "# Notebook 5: Naive Bayes"
   ]
  },
  {
   "cell_type": "markdown",
   "id": "402824c2",
   "metadata": {},
   "source": [
    "This notebook will train the user data on spotify using the Naive Bayes model. To get a better understanding of what the data looks like, refer to Notebook 1"
   ]
  },
  {
   "cell_type": "code",
   "execution_count": 10,
   "id": "71157d70",
   "metadata": {},
   "outputs": [],
   "source": [
    "import pandas as pd\n",
    "from sklearn.naive_bayes import GaussianNB\n",
    "from sklearn.model_selection import train_test_split\n",
    "from sklearn.metrics import classification_report\n",
    "import seaborn as sns"
   ]
  },
  {
   "cell_type": "code",
   "execution_count": 3,
   "id": "b0fea1f7",
   "metadata": {},
   "outputs": [],
   "source": [
    "data = pd.read_csv('processed_data.csv')"
   ]
  },
  {
   "cell_type": "code",
   "execution_count": 4,
   "id": "9b495334",
   "metadata": {},
   "outputs": [],
   "source": [
    "cols = list(data.columns)\n",
    "cols.pop(0)\n",
    "cols.remove('target')"
   ]
  },
  {
   "cell_type": "code",
   "execution_count": 5,
   "id": "93ab2713",
   "metadata": {},
   "outputs": [],
   "source": [
    "X = data[cols]\n",
    "y = data['target']\n",
    "X_train, X_test, y_train, y_test = train_test_split(X, y, test_size=0.2, random_state=1, stratify=y)"
   ]
  },
  {
   "cell_type": "code",
   "execution_count": 6,
   "id": "80547830",
   "metadata": {},
   "outputs": [
    {
     "data": {
      "text/plain": [
       "GaussianNB()"
      ]
     },
     "execution_count": 6,
     "metadata": {},
     "output_type": "execute_result"
    }
   ],
   "source": [
    "model=GaussianNB()\n",
    "model.fit(X_train,y_train)"
   ]
  },
  {
   "cell_type": "code",
   "execution_count": 8,
   "id": "006760e2",
   "metadata": {},
   "outputs": [],
   "source": [
    "y_pred=model.predict(X_test)\n",
    "confusion_matrix = pd.crosstab(y_test, y_pred, rownames=['Actual User preference'], colnames=['Model prediction'])"
   ]
  },
  {
   "cell_type": "code",
   "execution_count": 11,
   "id": "93822f2a",
   "metadata": {},
   "outputs": [
    {
     "data": {
      "text/plain": [
       "<AxesSubplot:xlabel='Model prediction', ylabel='Actual User preference'>"
      ]
     },
     "execution_count": 11,
     "metadata": {},
     "output_type": "execute_result"
    },
    {
     "data": {
      "image/png": "[encoded data removed]",
      "text/plain": [
       "<Figure size 432x288 with 2 Axes>"
      ]
     },
     "metadata": {
      "needs_background": "light"
     },
     "output_type": "display_data"
    }
   ],
   "source": [
    "sns.heatmap(confusion_matrix, annot=True, cmap='Blues', fmt='d')"
   ]
  },
  {
   "cell_type": "code",
   "execution_count": 7,
   "id": "1e554ced",
   "metadata": {},
   "outputs": [
    {
     "name": "stdout",
     "output_type": "stream",
     "text": [
      "              precision    recall  f1-score   support\n",
      "\n",
      "           0       0.61      0.71      0.66       200\n",
      "           1       0.66      0.54      0.60       204\n",
      "\n",
      "    accuracy                           0.63       404\n",
      "   macro avg       0.63      0.63      0.63       404\n",
      "weighted avg       0.63      0.63      0.63       404\n",
      "\n"
     ]
    }
   ],
   "source": [
    "print(classification_report(y_test,y_pred))"
   ]
  },
  {
   "cell_type": "code",
   "execution_count": 12,
   "id": "55a6cbc3",
   "metadata": {},
   "outputs": [],
   "source": []
  }
 ],
 "metadata": {
  "kernelspec": {
   "display_name": "Python 3 (ipykernel)",
   "language": "python",
   "name": "python3"
  },
  "language_info": {
   "codemirror_mode": {
    "name": "ipython",
    "version": 3
   },
   "file_extension": ".py",
   "mimetype": "text/x-python",
   "name": "python",
   "nbconvert_exporter": "python",
   "pygments_lexer": "ipython3",
   "version": "3.9.7"
  }
 },
 "nbformat": 4,
 "nbformat_minor": 5
}
